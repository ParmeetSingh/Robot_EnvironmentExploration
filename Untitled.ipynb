{
 "cells": [
  {
   "cell_type": "code",
   "execution_count": 6,
   "metadata": {
    "collapsed": true
   },
   "outputs": [],
   "source": [
    "import scipy.stats as st,numpy as np"
   ]
  },
  {
   "cell_type": "code",
   "execution_count": 7,
   "metadata": {
    "collapsed": true
   },
   "outputs": [],
   "source": [
    "def gkern(kernlen=21, nsig=3):\n",
    "\t    \"\"\"Returns a 2D Gaussian kernel array.\"\"\"\n",
    "\n",
    "\t    interval = (2*nsig+1.)/(kernlen)\n",
    "\t    x = np.linspace(-nsig-interval/2., nsig+interval/2., kernlen+1)\n",
    "\t    kern1d = np.diff(st.norm.cdf(x))\n",
    "\t    kernel_raw = np.sqrt(np.outer(kern1d, kern1d))\n",
    "\t    kernel = kernel_raw/kernel_raw.sum()\n",
    "\t    return kernel"
   ]
  },
  {
   "cell_type": "code",
   "execution_count": null,
   "metadata": {},
   "outputs": [],
   "source": []
  },
  {
   "cell_type": "code",
   "execution_count": null,
   "metadata": {
    "collapsed": true
   },
   "outputs": [],
   "source": []
  }
 ],
 "metadata": {
  "kernelspec": {
   "display_name": "Python 2",
   "language": "python",
   "name": "python2"
  },
  "language_info": {
   "codemirror_mode": {
    "name": "ipython",
    "version": 2
   },
   "file_extension": ".py",
   "mimetype": "text/x-python",
   "name": "python",
   "nbconvert_exporter": "python",
   "pygments_lexer": "ipython2",
   "version": "2.7.14"
  }
 },
 "nbformat": 4,
 "nbformat_minor": 2
}
